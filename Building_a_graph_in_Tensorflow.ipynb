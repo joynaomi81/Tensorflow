{
  "nbformat": 4,
  "nbformat_minor": 0,
  "metadata": {
    "colab": {
      "provenance": [],
      "authorship_tag": "ABX9TyOi2XGwSieNHok9PAE0gIts",
      "include_colab_link": true
    },
    "kernelspec": {
      "name": "python3",
      "display_name": "Python 3"
    },
    "language_info": {
      "name": "python"
    }
  },
  "cells": [
    {
      "cell_type": "markdown",
      "metadata": {
        "id": "view-in-github",
        "colab_type": "text"
      },
      "source": [
        "<a href=\"https://colab.research.google.com/github/joynaomi81/Tensorflow/blob/main/Building_a_graph_in_Tensorflow.ipynb\" target=\"_parent\"><img src=\"https://colab.research.google.com/assets/colab-badge.svg\" alt=\"Open In Colab\"/></a>"
      ]
    },
    {
      "cell_type": "code",
      "execution_count": 46,
      "metadata": {
        "id": "GlMWtzA_7wzE"
      },
      "outputs": [],
      "source": [
        "import tensorflow as tf"
      ]
    },
    {
      "cell_type": "code",
      "source": [
        "import tensorflow.compat.v1 as tf\n",
        "tf.disable_eager_execution()"
      ],
      "metadata": {
        "id": "dHaWIk2-9TGw"
      },
      "execution_count": 47,
      "outputs": []
    },
    {
      "cell_type": "code",
      "source": [
        "x = tf.constant(5, name='x')"
      ],
      "metadata": {
        "id": "rZ_0hI0g98vg"
      },
      "execution_count": 48,
      "outputs": []
    },
    {
      "cell_type": "code",
      "source": [
        "y = tf.constant(6, name='y')"
      ],
      "metadata": {
        "id": "ejXqazoo_BsZ"
      },
      "execution_count": 49,
      "outputs": []
    },
    {
      "cell_type": "code",
      "source": [
        "z = tf.add(x, y, name='z')"
      ],
      "metadata": {
        "id": "z-doqSHV_d7s"
      },
      "execution_count": 50,
      "outputs": []
    },
    {
      "cell_type": "code",
      "source": [
        "graph = tf.get_default_graph() # default graph\n",
        "graph.get_operations() # display graph"
      ],
      "metadata": {
        "colab": {
          "base_uri": "https://localhost:8080/"
        },
        "id": "MOIhs7C_8knx",
        "outputId": "ba04ef37-a7ca-4e00-edcc-3b54d698ca53"
      },
      "execution_count": 51,
      "outputs": [
        {
          "output_type": "execute_result",
          "data": {
            "text/plain": [
              "[<tf.Operation 'x' type=Const>,\n",
              " <tf.Operation 'x_1' type=Const>,\n",
              " <tf.Operation 'y' type=Const>,\n",
              " <tf.Operation 'x_2' type=Const>,\n",
              " <tf.Operation 'y_1' type=Const>,\n",
              " <tf.Operation 'z' type=AddV2>,\n",
              " <tf.Operation 'x_3' type=Const>,\n",
              " <tf.Operation 'y_2' type=Const>,\n",
              " <tf.Operation 'z_1' type=AddV2>]"
            ]
          },
          "metadata": {},
          "execution_count": 51
        }
      ]
    },
    {
      "cell_type": "code",
      "source": [
        "a = tf.multiply(x, y, name='a')"
      ],
      "metadata": {
        "id": "_pGiBbtgBrfL"
      },
      "execution_count": 52,
      "outputs": []
    },
    {
      "cell_type": "code",
      "source": [
        "operations = graph.get_operations()\n",
        "operations"
      ],
      "metadata": {
        "colab": {
          "base_uri": "https://localhost:8080/"
        },
        "id": "vmWemhizB22m",
        "outputId": "746bb956-8f28-433d-c5d7-c23e05890aad"
      },
      "execution_count": 53,
      "outputs": [
        {
          "output_type": "execute_result",
          "data": {
            "text/plain": [
              "[<tf.Operation 'x' type=Const>,\n",
              " <tf.Operation 'x_1' type=Const>,\n",
              " <tf.Operation 'y' type=Const>,\n",
              " <tf.Operation 'x_2' type=Const>,\n",
              " <tf.Operation 'y_1' type=Const>,\n",
              " <tf.Operation 'z' type=AddV2>,\n",
              " <tf.Operation 'x_3' type=Const>,\n",
              " <tf.Operation 'y_2' type=Const>,\n",
              " <tf.Operation 'z_1' type=AddV2>,\n",
              " <tf.Operation 'a' type=Mul>]"
            ]
          },
          "metadata": {},
          "execution_count": 53
        }
      ]
    },
    {
      "cell_type": "code",
      "source": [
        "sess = tf.Session()\n",
        "sess.run(z)"
      ],
      "metadata": {
        "colab": {
          "base_uri": "https://localhost:8080/"
        },
        "id": "R3JfCZPTB4-x",
        "outputId": "c31143e1-fca8-4bf5-8ad9-2ed59756b111"
      },
      "execution_count": 56,
      "outputs": [
        {
          "output_type": "execute_result",
          "data": {
            "text/plain": [
              "11"
            ]
          },
          "metadata": {},
          "execution_count": 56
        }
      ]
    },
    {
      "cell_type": "code",
      "source": [
        "sess = tf.Session()\n",
        "sess.run(a)"
      ],
      "metadata": {
        "colab": {
          "base_uri": "https://localhost:8080/"
        },
        "id": "46LTlaDLCK-B",
        "outputId": "501a2bc1-3ba7-4bd6-ee41-d733dfb82617"
      },
      "execution_count": 57,
      "outputs": [
        {
          "output_type": "execute_result",
          "data": {
            "text/plain": [
              "30"
            ]
          },
          "metadata": {},
          "execution_count": 57
        }
      ]
    },
    {
      "cell_type": "code",
      "source": [
        "sess.close()"
      ],
      "metadata": {
        "id": "-MvhyGZ6CTJ0"
      },
      "execution_count": 60,
      "outputs": []
    }
  ]
}