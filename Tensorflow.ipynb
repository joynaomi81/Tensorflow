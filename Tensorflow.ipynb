{
  "nbformat": 4,
  "nbformat_minor": 0,
  "metadata": {
    "colab": {
      "provenance": [],
      "authorship_tag": "ABX9TyPLf1czERkGergnz0U5kg26",
      "include_colab_link": true
    },
    "kernelspec": {
      "name": "python3",
      "display_name": "Python 3"
    },
    "language_info": {
      "name": "python"
    }
  },
  "cells": [
    {
      "cell_type": "markdown",
      "metadata": {
        "id": "view-in-github",
        "colab_type": "text"
      },
      "source": [
        "<a href=\"https://colab.research.google.com/github/joynaomi81/Tensorflow/blob/main/Tensorflow.ipynb\" target=\"_parent\"><img src=\"https://colab.research.google.com/assets/colab-badge.svg\" alt=\"Open In Colab\"/></a>"
      ]
    },
    {
      "cell_type": "code",
      "execution_count": 105,
      "metadata": {
        "id": "kz4cLRMnlecZ"
      },
      "outputs": [],
      "source": [
        "import tensorflow as tf"
      ]
    },
    {
      "cell_type": "code",
      "source": [
        "# How to create a variable\n",
        "var = tf.Variable(0)"
      ],
      "metadata": {
        "id": "jAD-8BZw153p"
      },
      "execution_count": null,
      "outputs": []
    },
    {
      "cell_type": "code",
      "source": [
        "# how to create a constant\n",
        "const = tf.constant(1)"
      ],
      "metadata": {
        "id": "4qIqlWRPr7TK"
      },
      "execution_count": null,
      "outputs": []
    },
    {
      "cell_type": "code",
      "source": [
        "# add new value\n",
        "new_value = tf.add(var, const)"
      ],
      "metadata": {
        "id": "ZTS0C9yCs8ox"
      },
      "execution_count": null,
      "outputs": []
    },
    {
      "cell_type": "code",
      "source": [
        "# how to change the value of a variable\n",
        "update_value = var.assign(var, new_value)\n",
        "print(new_value)"
      ],
      "metadata": {
        "colab": {
          "base_uri": "https://localhost:8080/"
        },
        "id": "xKrA3BrNtTHc",
        "outputId": "97401096-2798-4ff1-98b6-415c85caa213"
      },
      "execution_count": null,
      "outputs": [
        {
          "output_type": "stream",
          "name": "stdout",
          "text": [
            "Tensor(\"Add_1:0\", shape=(), dtype=int32)\n"
          ]
        }
      ]
    },
    {
      "cell_type": "code",
      "source": [
        "import tensorflow.compat.v1 as tf\n",
        "tf.disable_eager_execution()"
      ],
      "metadata": {
        "id": "ADFnAQDAy6vF"
      },
      "execution_count": null,
      "outputs": []
    },
    {
      "cell_type": "code",
      "source": [
        "init = tf.global_variables_initializer()"
      ],
      "metadata": {
        "id": "xDuL0ppdzWLg"
      },
      "execution_count": null,
      "outputs": []
    },
    {
      "cell_type": "code",
      "source": [
        "sess = tf.Session()"
      ],
      "metadata": {
        "id": "tDdGyWcAza7F"
      },
      "execution_count": null,
      "outputs": []
    },
    {
      "cell_type": "code",
      "source": [
        "sess.run(init) # initialize variable"
      ],
      "metadata": {
        "id": "dzZwfxSJzjqC"
      },
      "execution_count": null,
      "outputs": []
    },
    {
      "cell_type": "code",
      "source": [
        "print(sess.run(var))"
      ],
      "metadata": {
        "colab": {
          "base_uri": "https://localhost:8080/"
        },
        "id": "CSoHjRTjzo5h",
        "outputId": "36fcd1cd-b3af-48f7-d371-d1206aa60af7"
      },
      "execution_count": null,
      "outputs": [
        {
          "output_type": "stream",
          "name": "stdout",
          "text": [
            "0\n"
          ]
        }
      ]
    },
    {
      "cell_type": "code",
      "source": [
        "for _ in range(5):\n",
        "    sess.run(update_value)\n",
        "    print(sess.run(var))"
      ],
      "metadata": {
        "colab": {
          "base_uri": "https://localhost:8080/"
        },
        "id": "tSx3Op870hC_",
        "outputId": "19cccb07-6bb6-4845-d502-86e54e4c2691"
      },
      "execution_count": null,
      "outputs": [
        {
          "output_type": "stream",
          "name": "stdout",
          "text": [
            "0\n",
            "0\n",
            "0\n",
            "0\n",
            "0\n"
          ]
        }
      ]
    },
    {
      "cell_type": "code",
      "source": [
        " hello = tf.constant('Hello, TensorFlow!') # string operation"
      ],
      "metadata": {
        "id": "-ps0ypfn0wwO"
      },
      "execution_count": null,
      "outputs": []
    },
    {
      "cell_type": "code",
      "source": [
        "print(sess.run(hello))"
      ],
      "metadata": {
        "colab": {
          "base_uri": "https://localhost:8080/"
        },
        "id": "smNlV1va1A4e",
        "outputId": "377c726e-9754-48a3-ca67-e58285f717f5"
      },
      "execution_count": null,
      "outputs": [
        {
          "output_type": "stream",
          "name": "stdout",
          "text": [
            "b'Hello, TensorFlow!'\n"
          ]
        }
      ]
    },
    {
      "cell_type": "code",
      "source": [
        "# placeholder\n",
        "# how to create a placeholder\n",
        "a = tf.placeholder(tf.float32)"
      ],
      "metadata": {
        "id": "YppHsxkD1nSv"
      },
      "execution_count": null,
      "outputs": []
    },
    {
      "cell_type": "code",
      "source": [
        "b=a*3"
      ],
      "metadata": {
        "id": "tXSSUO4U2Tv1"
      },
      "execution_count": null,
      "outputs": []
    },
    {
      "cell_type": "code",
      "source": [
        "# feeding a placeholder with scalar\n",
        "result = sess.run(b, feed_dict={a:5})\n",
        "print(result)"
      ],
      "metadata": {
        "colab": {
          "base_uri": "https://localhost:8080/"
        },
        "id": "fLdwOkDG17CX",
        "outputId": "02bf1a4f-e38c-42b3-a063-1565800b7128"
      },
      "execution_count": null,
      "outputs": [
        {
          "output_type": "stream",
          "name": "stdout",
          "text": [
            "15.0\n"
          ]
        }
      ]
    },
    {
      "cell_type": "code",
      "source": [
        "#feeding a placeholder with vector of rank 1\n",
        "result = sess.run(b, feed_dict={a:[1,2,3]})\n",
        "print(result)\n"
      ],
      "metadata": {
        "colab": {
          "base_uri": "https://localhost:8080/"
        },
        "id": "DdOqPfS63EnW",
        "outputId": "0a1a8757-3517-4e71-a071-1687a1095257"
      },
      "execution_count": null,
      "outputs": [
        {
          "output_type": "stream",
          "name": "stdout",
          "text": [
            "[3. 6. 9.]\n"
          ]
        }
      ]
    },
    {
      "cell_type": "code",
      "source": [
        " #feeding a placeholder with multidimensional vector\n",
        " dictionary={a:[[[1,2,5], [3,4,9], [5,6,7], [8,9,5], [4,6,8], [9,8,7], [7,9,8]]]}\n",
        " result = sess.run(b,feed_dict=dictionary)\n",
        " print(result)"
      ],
      "metadata": {
        "colab": {
          "base_uri": "https://localhost:8080/"
        },
        "id": "WFT0S2WC370-",
        "outputId": "487a74c8-4c04-4f23-e055-b60fc4122d8e"
      },
      "execution_count": null,
      "outputs": [
        {
          "output_type": "stream",
          "name": "stdout",
          "text": [
            "[[[ 3.  6. 15.]\n",
            "  [ 9. 12. 27.]\n",
            "  [15. 18. 21.]\n",
            "  [24. 27. 15.]\n",
            "  [12. 18. 24.]\n",
            "  [27. 24. 21.]\n",
            "  [21. 27. 24.]]]\n"
          ]
        }
      ]
    },
    {
      "cell_type": "code",
      "source": [
        "#close session\n",
        "sess.close()"
      ],
      "metadata": {
        "id": "xLTzp40552Ub"
      },
      "execution_count": null,
      "outputs": []
    },
    {
      "cell_type": "code",
      "source": [
        "# create a session\n",
        "with tf.Session() as sess:\n",
        "    result=sess.run(hello)\n",
        "    print(result)"
      ],
      "metadata": {
        "colab": {
          "base_uri": "https://localhost:8080/"
        },
        "id": "B3hQ4zgA646E",
        "outputId": "1a80055e-3c89-4520-98ed-59bc16202d7c"
      },
      "execution_count": null,
      "outputs": [
        {
          "output_type": "stream",
          "name": "stdout",
          "text": [
            "b'Hello, TensorFlow!'\n"
          ]
        }
      ]
    }
  ]
}